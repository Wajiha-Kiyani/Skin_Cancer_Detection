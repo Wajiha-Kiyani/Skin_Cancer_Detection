{
  "cells": [
    {
      "cell_type": "markdown",
      "metadata": {
        "id": "q0YdX4ziSsnx"
      },
      "source": []
    },
    {
      "cell_type": "markdown",
      "metadata": {
        "id": "H4_aJGQzSsn1"
      },
      "source": [
        "#### **Project Title:**  ***\"Skin Cancer Detection\"***\n",
        "##### **Dataset:** *\"Skin Cancer Dataset\"*\n",
        "##### **Step 01:** Loading Important Libraries"
      ]
    },
    {
      "cell_type": "code",
      "execution_count": 1,
      "metadata": {
        "id": "iVG50SlbSsn4"
      },
      "outputs": [],
      "source": [
        "#Importing the required libraries.\n",
        "#Importing kagglehub to download skin cancer dataset from Kaggle.\n",
        "import kagglehub\n",
        "#For file and directory operations.\n",
        "import os\n",
        "#For numerical operations and array manipulation.\n",
        "import numpy as np\n",
        "#Importing Image class from PIL (Pillow) to load and preprocess images.\n",
        "from PIL import Image\n",
        "#Importing train_test_split to split data into training, validation and testing sets.\n",
        "from sklearn.model_selection import train_test_split\n",
        "#Importing TensorFlow for building and training deep learning models.\n",
        "import tensorflow as tf\n",
        "#Importing ResNet50 pre-trained model from Keras for transfer learning.\n",
        "from tensorflow.keras.applications import ResNet50\n",
        "#Importing evaluation metrics for model performance.\n",
        "from sklearn.metrics import accuracy_score, precision_score, recall_score, f1_score, confusion_matrix, ConfusionMatrixDisplay\n",
        "#For visualizing evaluation metrics and model performance.\n",
        "import matplotlib.pyplot as plt"
      ]
    },
    {
      "cell_type": "markdown",
      "metadata": {
        "id": "CPs7Txf_Ssn8"
      },
      "source": [
        "##### **Step 02:** Loading the Dataset"
      ]
    },
    {
      "cell_type": "code",
      "execution_count": 2,
      "metadata": {
        "colab": {
          "base_uri": "https://localhost:8080/"
        },
        "id": "0abZSTib0L99",
        "outputId": "df0d7f96-32c8-4295-b9cd-fb0f25ebe80a"
      },
      "outputs": [
        {
          "name": "stdout",
          "output_type": "stream",
          "text": [
            "Downloading from https://www.kaggle.com/api/v1/datasets/download/nodoubttome/skin-cancer9-classesisic?dataset_version_number=1...\n"
          ]
        },
        {
          "name": "stderr",
          "output_type": "stream",
          "text": [
            "100%|██████████| 786M/786M [00:11<00:00, 73.9MB/s]"
          ]
        },
        {
          "name": "stdout",
          "output_type": "stream",
          "text": [
            "Extracting files...\n"
          ]
        },
        {
          "name": "stderr",
          "output_type": "stream",
          "text": [
            "\n"
          ]
        },
        {
          "name": "stdout",
          "output_type": "stream",
          "text": [
            "Path to dataset files: /root/.cache/kagglehub/datasets/nodoubttome/skin-cancer9-classesisic/versions/1\n"
          ]
        }
      ],
      "source": [
        "#Downloading the latest version of the dataset using kagglehub.\n",
        "#The dataset identifier (\"nodoubttome/skin-cancer9-classesisic\") is provided from Kaggle.\n",
        "path = kagglehub.dataset_download(\"nodoubttome/skin-cancer9-classesisic\")\n",
        "#Printing the local path where the dataset files are downloaded and extracted.\n",
        "print(\"Path to dataset files:\", path)"
      ]
    },
    {
      "cell_type": "code",
      "execution_count": 3,
      "metadata": {
        "colab": {
          "base_uri": "https://localhost:8080/"
        },
        "id": "ClmlE_yp3wrE",
        "outputId": "bca53504-807c-4000-bef9-163d42619101"
      },
      "outputs": [
        {
          "name": "stdout",
          "output_type": "stream",
          "text": [
            "Contents of dataset directory:\n",
            "['Skin cancer ISIC The International Skin Imaging Collaboration']\n"
          ]
        }
      ],
      "source": [
        "#Defining the path to the downloaded dataset directory.\n",
        "#This is the local path where kagglehub stores the dataset.\n",
        "dataset_path = \"/root/.cache/kagglehub/datasets/nodoubttome/skin-cancer9-classesisic/versions/1\"\n",
        "#Printing a message indicating that the directory contents will be displayed.\n",
        "print(\"Contents of dataset directory:\")\n",
        "#Listing and displaying all files and folders in the specified dataset directory.\n",
        "print(os.listdir(dataset_path))"
      ]
    },
    {
      "cell_type": "code",
      "execution_count": 4,
      "metadata": {
        "colab": {
          "base_uri": "https://localhost:8080/"
        },
        "id": "MhA-21wY37Lb",
        "outputId": "f700af4c-6975-4907-ce47-7147e937e8cb"
      },
      "outputs": [
        {
          "name": "stdout",
          "output_type": "stream",
          "text": [
            "Contents of subdirectory:\n",
            "['Train', 'Test']\n"
          ]
        }
      ],
      "source": [
        "#Adjusting the path to point to the specific subdirectory within the dataset.\n",
        "#This subdirectory contains the actual data (images) or further organized folders.\n",
        "subdir_path = \"/root/.cache/kagglehub/datasets/nodoubttome/skin-cancer9-classesisic/versions/1/Skin cancer ISIC The International Skin Imaging Collaboration\"\n",
        "#Printing a message to indicate the contents of the subdirectory will be displayed.\n",
        "print(\"Contents of subdirectory:\")\n",
        "#Listing and displaying all files and folders in the specified subdirectory.\n",
        "print(os.listdir(subdir_path))"
      ]
    },
    {
      "cell_type": "markdown",
      "metadata": {
        "id": "GDqZeXmaSsoC"
      },
      "source": [
        "##### **Step 03:** Data Preprocessing"
      ]
    },
    {
      "cell_type": "code",
      "execution_count": 5,
      "metadata": {
        "colab": {
          "base_uri": "https://localhost:8080/"
        },
        "id": "qh7YEkm64NVu",
        "outputId": "ae49dd25-c233-462c-8d88-9d5daaabfe16"
      },
      "outputs": [
        {
          "name": "stdout",
          "output_type": "stream",
          "text": [
            "Loaded 2239 training images with 9 classes.\n",
            "Loaded 118 testing images.\n",
            "Training set: 1791 images\n",
            "Validation set: 448 images\n",
            "Testing set: 118 images\n"
          ]
        }
      ],
      "source": [
        "#Defining the target image size for resizing all images.\n",
        "image_size = (224, 224)  #Resizing dimensions to 224x224 for compatibility with CNNs.\n",
        "#Function to load images and labels from a given directory.\n",
        "def load_images_and_labels(dataset_path):\n",
        "    images = []  #List to store image data.\n",
        "    labels = []  #List to store corresponding class labels.\n",
        "    class_names = os.listdir(dataset_path)  #List all class folders in the dataset directory.\n",
        "    #Iterate through each class folder and assign a label.\n",
        "    for label, class_name in enumerate(class_names):\n",
        "        class_path = os.path.join(dataset_path, class_name) #Path to the current class folder.\n",
        "        #Checking if the path is a directory (ignores non-folder files).\n",
        "        if os.path.isdir(class_path):\n",
        "            for img_file in os.listdir(class_path):\n",
        "                img_path = os.path.join(class_path, img_file)\n",
        "                try:\n",
        "                    #Opening the image, ensuring it is in RGB format and resizing it.\n",
        "                    img = Image.open(img_path).convert(\"RGB\")  #Ensuring RGB format.\n",
        "                    img = img.resize(image_size)  #Resizing to 224x224.\n",
        "                    images.append(np.array(img) / 255.0)  #Normalizing pixel values to [0, 1].\n",
        "                    labels.append(label) #Appending the class label.\n",
        "                except Exception as e:\n",
        "                    #Printing an error message if the image fails to load.\n",
        "                    print(f\"Error loading image {img_path}: {e}\")\n",
        "    #Returning the images, labels and class names as numpy arrays.\n",
        "    return np.array(images), np.array(labels), class_names\n",
        "#Paths to Train and Test folders within the dataset.\n",
        "train_path = os.path.join(subdir_path, \"Train\")\n",
        "test_path = os.path.join(subdir_path, \"Test\")\n",
        "#Loading training data.\n",
        "train_images, train_labels, class_names = load_images_and_labels(train_path)\n",
        "print(f\"Loaded {len(train_images)} training images with {len(class_names)} classes.\")\n",
        "#Splitting Train into Training and Validation sets (80-20 split).\n",
        "train_images, val_images, train_labels, val_labels = train_test_split(train_images, train_labels, test_size=0.2, random_state=42, stratify=train_labels)\n",
        "#Loading testing data.\n",
        "test_images, test_labels, _ = load_images_and_labels(test_path)\n",
        "print(f\"Loaded {len(test_images)} testing images.\")\n",
        "#Printing the sizes of the training, validation and testing datasets.\n",
        "print(f\"Training set: {len(train_images)} images\")\n",
        "print(f\"Validation set: {len(val_images)} images\")\n",
        "print(f\"Testing set: {len(test_images)} images\")"
      ]
    },
    {
      "cell_type": "markdown",
      "metadata": {
        "id": "N6-2Xb-JSsoE"
      },
      "source": [
        "##### **Step 04:** Data Augmentation"
      ]
    },
    {
      "cell_type": "code",
      "execution_count": 6,
      "metadata": {
        "id": "rZbD0tlr4yo2"
      },
      "outputs": [],
      "source": [
        "#Defining the data augmentation pipeline using Keras Sequential API.\n",
        "data_augmentation = tf.keras.Sequential([\n",
        "    tf.keras.layers.RandomFlip(\"horizontal_and_vertical\"),  #Randomly flip images horizontally and vertically.\n",
        "    tf.keras.layers.RandomRotation(0.2),  #Rotating images randomly by up to 20% of a full rotation.\n",
        "    tf.keras.layers.RandomZoom(0.2),  #Applying random zooming (up to 20%).\n",
        "    tf.keras.layers.RandomBrightness(0.2)  #Adjusting image brightness randomly by up to 20%.\n",
        "])\n",
        "#Defining the batch size for training, validation and testing.\n",
        "batch_size = 32\n",
        "#Creating a TensorFlow dataset for the training set.\n",
        "#Shuffle: Randomly shuffle the data for better generalization.\n",
        "#Batch: Group the data into batches of size 32.\n",
        "train_ds = tf.data.Dataset.from_tensor_slices((train_images, train_labels)).shuffle(1000).batch(batch_size)\n",
        "#Creating TensorFlow datasets for the validation and testing sets.\n",
        "#Batch the validation and test datasets without shuffling.\n",
        "val_ds = tf.data.Dataset.from_tensor_slices((val_images, val_labels)).batch(batch_size)\n",
        "test_ds = tf.data.Dataset.from_tensor_slices((test_images, test_labels)).batch(batch_size)\n",
        "#Applying the data augmentation pipeline to the training dataset dynamically.\n",
        "#he lambda function applies the augmentation only to the input images (x), not the labels (y).\n",
        "train_ds = train_ds.map(lambda x, y: (data_augmentation(x, training=True), y))\n",
        "#Prefetching data to improve training performance.\n",
        "#Prefetching allows the model to prepare the next batch while the current batch is being processed.\n",
        "train_ds = train_ds.prefetch(tf.data.AUTOTUNE)  #Prefetching for the training dataset.\n",
        "val_ds = val_ds.prefetch(tf.data.AUTOTUNE)      #Prefetching for the validation dataset.\n",
        "test_ds = test_ds.prefetch(tf.data.AUTOTUNE)    #Prefetching for the test dataset."
      ]
    },
    {
      "cell_type": "markdown",
      "metadata": {
        "id": "TqlUss_3SsoF"
      },
      "source": [
        "##### **Step 05:** Model Development"
      ]
    },
    {
      "cell_type": "code",
      "execution_count": 7,
      "metadata": {
        "colab": {
          "base_uri": "https://localhost:8080/",
          "height": 287
        },
        "id": "2w8hMxhd424D",
        "outputId": "15b3a386-b0d9-455f-e9a9-05b24284e397"
      },
      "outputs": [
        {
          "name": "stdout",
          "output_type": "stream",
          "text": [
            "Downloading data from https://storage.googleapis.com/tensorflow/keras-applications/resnet/resnet50_weights_tf_dim_ordering_tf_kernels_notop.h5\n",
            "\u001b[1m94765736/94765736\u001b[0m \u001b[32m━━━━━━━━━━━━━━━━━━━━\u001b[0m\u001b[37m\u001b[0m \u001b[1m0s\u001b[0m 0us/step\n"
          ]
        },
        {
          "data": {
            "text/html": [
              "<pre style=\"white-space:pre;overflow-x:auto;line-height:normal;font-family:Menlo,'DejaVu Sans Mono',consolas,'Courier New',monospace\"><span style=\"font-weight: bold\">Model: \"sequential_1\"</span>\n",
              "</pre>\n"
            ],
            "text/plain": [
              "\u001b[1mModel: \"sequential_1\"\u001b[0m\n"
            ]
          },
          "metadata": {},
          "output_type": "display_data"
        },
        {
          "data": {
            "text/html": [
              "<pre style=\"white-space:pre;overflow-x:auto;line-height:normal;font-family:Menlo,'DejaVu Sans Mono',consolas,'Courier New',monospace\">┏━━━━━━━━━━━━━━━━━━━━━━━━━━━━━━━━━━━━━━┳━━━━━━━━━━━━━━━━━━━━━━━━━━━━━┳━━━━━━━━━━━━━━━━━┓\n",
              "┃<span style=\"font-weight: bold\"> Layer (type)                         </span>┃<span style=\"font-weight: bold\"> Output Shape                </span>┃<span style=\"font-weight: bold\">         Param # </span>┃\n",
              "┡━━━━━━━━━━━━━━━━━━━━━━━━━━━━━━━━━━━━━━╇━━━━━━━━━━━━━━━━━━━━━━━━━━━━━╇━━━━━━━━━━━━━━━━━┩\n",
              "│ resnet50 (<span style=\"color: #0087ff; text-decoration-color: #0087ff\">Functional</span>)                │ (<span style=\"color: #00d7ff; text-decoration-color: #00d7ff\">None</span>, <span style=\"color: #00af00; text-decoration-color: #00af00\">7</span>, <span style=\"color: #00af00; text-decoration-color: #00af00\">7</span>, <span style=\"color: #00af00; text-decoration-color: #00af00\">2048</span>)          │      <span style=\"color: #00af00; text-decoration-color: #00af00\">23,587,712</span> │\n",
              "├──────────────────────────────────────┼─────────────────────────────┼─────────────────┤\n",
              "│ global_average_pooling2d             │ (<span style=\"color: #00d7ff; text-decoration-color: #00d7ff\">None</span>, <span style=\"color: #00af00; text-decoration-color: #00af00\">2048</span>)                │               <span style=\"color: #00af00; text-decoration-color: #00af00\">0</span> │\n",
              "│ (<span style=\"color: #0087ff; text-decoration-color: #0087ff\">GlobalAveragePooling2D</span>)             │                             │                 │\n",
              "├──────────────────────────────────────┼─────────────────────────────┼─────────────────┤\n",
              "│ dense (<span style=\"color: #0087ff; text-decoration-color: #0087ff\">Dense</span>)                        │ (<span style=\"color: #00d7ff; text-decoration-color: #00d7ff\">None</span>, <span style=\"color: #00af00; text-decoration-color: #00af00\">1</span>)                   │           <span style=\"color: #00af00; text-decoration-color: #00af00\">2,049</span> │\n",
              "└──────────────────────────────────────┴─────────────────────────────┴─────────────────┘\n",
              "</pre>\n"
            ],
            "text/plain": [
              "┏━━━━━━━━━━━━━━━━━━━━━━━━━━━━━━━━━━━━━━┳━━━━━━━━━━━━━━━━━━━━━━━━━━━━━┳━━━━━━━━━━━━━━━━━┓\n",
              "┃\u001b[1m \u001b[0m\u001b[1mLayer (type)                        \u001b[0m\u001b[1m \u001b[0m┃\u001b[1m \u001b[0m\u001b[1mOutput Shape               \u001b[0m\u001b[1m \u001b[0m┃\u001b[1m \u001b[0m\u001b[1m        Param #\u001b[0m\u001b[1m \u001b[0m┃\n",
              "┡━━━━━━━━━━━━━━━━━━━━━━━━━━━━━━━━━━━━━━╇━━━━━━━━━━━━━━━━━━━━━━━━━━━━━╇━━━━━━━━━━━━━━━━━┩\n",
              "│ resnet50 (\u001b[38;5;33mFunctional\u001b[0m)                │ (\u001b[38;5;45mNone\u001b[0m, \u001b[38;5;34m7\u001b[0m, \u001b[38;5;34m7\u001b[0m, \u001b[38;5;34m2048\u001b[0m)          │      \u001b[38;5;34m23,587,712\u001b[0m │\n",
              "├──────────────────────────────────────┼─────────────────────────────┼─────────────────┤\n",
              "│ global_average_pooling2d             │ (\u001b[38;5;45mNone\u001b[0m, \u001b[38;5;34m2048\u001b[0m)                │               \u001b[38;5;34m0\u001b[0m │\n",
              "│ (\u001b[38;5;33mGlobalAveragePooling2D\u001b[0m)             │                             │                 │\n",
              "├──────────────────────────────────────┼─────────────────────────────┼─────────────────┤\n",
              "│ dense (\u001b[38;5;33mDense\u001b[0m)                        │ (\u001b[38;5;45mNone\u001b[0m, \u001b[38;5;34m1\u001b[0m)                   │           \u001b[38;5;34m2,049\u001b[0m │\n",
              "└──────────────────────────────────────┴─────────────────────────────┴─────────────────┘\n"
            ]
          },
          "metadata": {},
          "output_type": "display_data"
        },
        {
          "data": {
            "text/html": [
              "<pre style=\"white-space:pre;overflow-x:auto;line-height:normal;font-family:Menlo,'DejaVu Sans Mono',consolas,'Courier New',monospace\"><span style=\"font-weight: bold\"> Total params: </span><span style=\"color: #00af00; text-decoration-color: #00af00\">23,589,761</span> (89.99 MB)\n",
              "</pre>\n"
            ],
            "text/plain": [
              "\u001b[1m Total params: \u001b[0m\u001b[38;5;34m23,589,761\u001b[0m (89.99 MB)\n"
            ]
          },
          "metadata": {},
          "output_type": "display_data"
        },
        {
          "data": {
            "text/html": [
              "<pre style=\"white-space:pre;overflow-x:auto;line-height:normal;font-family:Menlo,'DejaVu Sans Mono',consolas,'Courier New',monospace\"><span style=\"font-weight: bold\"> Trainable params: </span><span style=\"color: #00af00; text-decoration-color: #00af00\">23,536,641</span> (89.79 MB)\n",
              "</pre>\n"
            ],
            "text/plain": [
              "\u001b[1m Trainable params: \u001b[0m\u001b[38;5;34m23,536,641\u001b[0m (89.79 MB)\n"
            ]
          },
          "metadata": {},
          "output_type": "display_data"
        },
        {
          "data": {
            "text/html": [
              "<pre style=\"white-space:pre;overflow-x:auto;line-height:normal;font-family:Menlo,'DejaVu Sans Mono',consolas,'Courier New',monospace\"><span style=\"font-weight: bold\"> Non-trainable params: </span><span style=\"color: #00af00; text-decoration-color: #00af00\">53,120</span> (207.50 KB)\n",
              "</pre>\n"
            ],
            "text/plain": [
              "\u001b[1m Non-trainable params: \u001b[0m\u001b[38;5;34m53,120\u001b[0m (207.50 KB)\n"
            ]
          },
          "metadata": {},
          "output_type": "display_data"
        }
      ],
      "source": [
        "#Loading a Pre-trained CNN Model (ResNet50).\n",
        "#weights='imagenet': Use weights pre-trained on the ImageNet dataset.\n",
        "#include_top=False: Excluding the fully connected layers at the top of the network.\n",
        "#input_shape=(224, 224, 3): Defining the input shape as 224x224 RGB images.\n",
        "base_model = ResNet50(weights='imagenet', include_top=False, input_shape=(224, 224, 3))\n",
        "#Unfreezing the base model for fine-tuning.\n",
        "#Fine-tuning allows the pre-trained layers to be updated during training.\n",
        "base_model.trainable = True\n",
        "#Replacing the Last Fully Connected Layer.\n",
        "#Adding a GlobalAveragePooling2D layer to reduce the feature maps to a single vector.\n",
        "#Adding a Dense layer with 1 neuron and sigmoid activation for binary classification.\n",
        "model = tf.keras.Sequential([\n",
        "    base_model,  #Pre-training ResNet50 as the base model.\n",
        "    tf.keras.layers.GlobalAveragePooling2D(),  #Converting feature maps to a 1D vector.\n",
        "    tf.keras.layers.Dense(1, activation='sigmoid')  #Output layer for binary classification.\n",
        "])\n",
        "#Compiling the Model.\n",
        "#Adam optimizer: Adaptive learning rate optimization.\n",
        "#loss='binary_crossentropy': Loss function for binary classification problems.\n",
        "#metrics=['accuracy']: Track accuracy during training and evaluation.\n",
        "model.compile(\n",
        "    optimizer=tf.keras.optimizers.Adam(learning_rate=0.001),  #Using a learning rate of 0.001.\n",
        "    loss='binary_crossentropy',  #Loss function for binary classification.\n",
        "    metrics=['accuracy']  #Accuracy as the evaluation metric.\n",
        ")\n",
        "#Displaying the model architecture.\n",
        "#Provides an overview of the model layers, output shapes and total parameters.\n",
        "model.summary()"
      ]
    },
    {
      "cell_type": "markdown",
      "metadata": {
        "id": "fjNSYZjcSsoH"
      },
      "source": [
        "##### **Step 06:** Evaluation"
      ]
    },
    {
      "cell_type": "code",
      "execution_count": 8,
      "metadata": {
        "colab": {
          "base_uri": "https://localhost:8080/",
          "height": 1000
        },
        "id": "5KFfnLVr6i7T",
        "outputId": "61fc1479-6a7a-4491-93d1-1835779f1afe"
      },
      "outputs": [
        {
          "name": "stdout",
          "output_type": "stream",
          "text": [
            "\u001b[1m4/4\u001b[0m \u001b[32m━━━━━━━━━━━━━━━━━━━━\u001b[0m\u001b[37m\u001b[0m \u001b[1m26s\u001b[0m 6s/step\n"
          ]
        },
        {
          "name": "stderr",
          "output_type": "stream",
          "text": [
            "/usr/local/lib/python3.10/dist-packages/sklearn/metrics/_classification.py:1531: UndefinedMetricWarning: Precision is ill-defined and being set to 0.0 in labels with no predicted samples. Use `zero_division` parameter to control this behavior.\n",
            "  _warn_prf(average, modifier, f\"{metric.capitalize()} is\", len(result))\n"
          ]
        },
        {
          "name": "stdout",
          "output_type": "stream",
          "text": [
            "Accuracy: 0.14\n",
            "Precision (macro): 0.02\n",
            "Recall (macro): 0.11\n",
            "F1-Score (macro): 0.03\n"
          ]
        },
        {
          "data": {
            "image/png": "[encoded data removed]",
            "text/plain": [
              "<Figure size 800x500 with 1 Axes>"
            ]
          },
          "metadata": {},
          "output_type": "display_data"
        },
        {
          "data": {
            "image/png": "[encoded data removed]",
            "text/plain": [
              "<Figure size 640x480 with 2 Axes>"
            ]
          },
          "metadata": {},
          "output_type": "display_data"
        }
      ],
      "source": [
        "#Predicting on the test dataset.\n",
        "y_pred_probs = model.predict(test_ds)  #Predicting probabilities.\n",
        "y_pred = np.argmax(y_pred_probs, axis=1)  #Converting to class indices.\n",
        "#Getting true labels.\n",
        "y_true = np.concatenate([y for x, y in test_ds], axis=0)\n",
        "#Calculating metrics.\n",
        "accuracy = accuracy_score(y_true, y_pred)\n",
        "precision = precision_score(y_true, y_pred, average='macro')  #Using 'macro' for multiclass.\n",
        "recall = recall_score(y_true, y_pred, average='macro')        #Using 'macro' for multiclass.\n",
        "f1 = f1_score(y_true, y_pred, average='macro')                #Using 'macro' for multiclass.\n",
        "#Printing metrics.\n",
        "print(f\"Accuracy: {accuracy:.2f}\")\n",
        "print(f\"Precision (macro): {precision:.2f}\")\n",
        "print(f\"Recall (macro): {recall:.2f}\")\n",
        "print(f\"F1-Score (macro): {f1:.2f}\")\n",
        "#Visualizing metrics.\n",
        "metrics = [accuracy, precision, recall, f1]\n",
        "metric_names = ['Accuracy', 'Precision', 'Recall', 'F1-Score']\n",
        "plt.figure(figsize=(8, 5))\n",
        "plt.bar(metric_names, metrics, color=['blue', 'green', 'orange', 'purple'])\n",
        "plt.ylim(0, 1)\n",
        "plt.title('Model Evaluation Metrics (Multiclass)')\n",
        "plt.ylabel('Score')\n",
        "plt.show()\n",
        "#Confusion Matrix.\n",
        "cm = confusion_matrix(y_true, y_pred)\n",
        "disp = ConfusionMatrixDisplay(confusion_matrix=cm, display_labels=np.unique(y_true))\n",
        "disp.plot(cmap='Blues', values_format='d')\n",
        "plt.title('Confusion Matrix')\n",
        "plt.show()"
      ]
    },
    {
      "cell_type": "markdown",
      "metadata": {
        "id": "5OTIVMK9Fbmw"
      },
      "source": [
        "##### **Conclusion**\n",
        "The project aimed to classify skin lesion images using a pre-trained **ResNet50** model with **transfer learning**. Below are the key takeaways:\n",
        "1. **Data Preprocessing**:\n",
        "   - Images were resized to **224x224** and normalized.\n",
        "   - Dataset was split into **train, validation and test sets**.\n",
        "2. **Model Development**:\n",
        "   - **ResNet50** was fine-tuned by replacing the final layer for classification.\n",
        "   - Binary Crossentropy loss and Adam optimizer were used.\n",
        "3. **Evaluation**:\n",
        "   - The model’s performance on the test set was low:\n",
        "     - **Accuracy**: ~14%\n",
        "     - **Precision**: ~2%\n",
        "     - **Recall**: ~11%\n",
        "     - **F1-Score**: ~3%\n",
        "The results highlight the potential of transfer learning but emphasize the need for further optimization to improve performance.\n",
        "***"
      ]
    }
  ],
  "metadata": {
    "colab": {
      "provenance": []
    },
    "kernelspec": {
      "display_name": "Python 3",
      "name": "python3"
    },
    "language_info": {
      "name": "python"
    }
  },
  "nbformat": 4,
  "nbformat_minor": 0
}
